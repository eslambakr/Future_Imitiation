{
 "cells": [
  {
   "cell_type": "code",
   "execution_count": 42,
   "metadata": {},
   "outputs": [
    {
     "name": "stdout",
     "output_type": "stream",
     "text": [
      "Number of files founded =  3288\n",
      "4\n",
      "done\n"
     ]
    }
   ],
   "source": [
    "import os\n",
    "import h5py\n",
    "import sys\n",
    "#sys.path.remove('/opt/ros/kinetic/lib/python2.7/dist-packages')\n",
    "import cv2\n",
    "\n",
    "intel_data_path = \"/home/eslam/Future_Imitiation/Intel_dataset/AgentHuman/SeqTrain/\"\n",
    "intel_data_path = \"/media/eslam/426b7820-cb81-4c46-9430-be5429970ddb/home/eslam/Future_Imitiation/Intel_dataset/AgentHuman/SeqTrain/\"\n",
    "img_size = 256\n",
    "\n",
    "# list all files in the dir\n",
    "files = []\n",
    "# r=root, d=directories, f = files\n",
    "for r, d, f in os.walk(intel_data_path):\n",
    "    for file in f:\n",
    "        if '.h5' in file:\n",
    "            files.append(os.path.join(r, file))\n",
    "print(\"Number of files founded = \",len(files))\n",
    "\n",
    "for i in range(len(files)):\n",
    "    i = 4\n",
    "    print(i)\n",
    "    # read the .h5 file\n",
    "    filename = files[i]\n",
    "    f = h5py.File(filename, 'r')\n",
    "    # List all groups\n",
    "    #print(\"Keys: %s\" % f.keys())\n",
    "    rgb = list(f.keys())[0]\n",
    "    targets = list(f.keys())[1]\n",
    "    # Get the data\n",
    "    data = list(f[rgb])\n",
    "    # resize the frames to 256*256\n",
    "    data_resized = []\n",
    "    for frame in data:\n",
    "        # swap BGR to RGB\n",
    "        frame = cv2.cvtColor(frame, cv2.COLOR_BGR2RGB)\n",
    "        data_resized.append(cv2.resize(frame,(img_size, img_size)))\n",
    "    # generate video\n",
    "    #fourcc = cv2.VideoWriter_fourcc(*'mp4v')\n",
    "    fourcc = cv2.VideoWriter_fourcc(*'MJPG') # this work with small sizes\n",
    "    out = cv2.VideoWriter('../Intel_dataset/videos/scenario_'+str(i)+'.avi', fourcc, 30.0, (img_size,img_size))\n",
    "    for frame in data_resized:\n",
    "        out.write(frame)\n",
    "    break\n",
    "print(\"done\")\n",
    "\n"
   ]
  },
  {
   "cell_type": "code",
   "execution_count": 52,
   "metadata": {},
   "outputs": [
    {
     "name": "stdout",
     "output_type": "stream",
     "text": [
      "Number of files founded =  2932\n"
     ]
    }
   ],
   "source": [
    "files = []\n",
    "intel_videos_path = \"/media/eslam/426b7820-cb81-4c46-9430-be5429970ddb/home/eslam/Future_Imitiation/Intel_dataset/videos\"\n",
    "for r, d, f in os.walk(intel_videos_path):\n",
    "    for file in f:\n",
    "        if '.avi' in file:\n",
    "            files.append(os.path.join(r, file))\n",
    "print(\"Number of files founded = \",len(files))\n",
    "\n",
    "txt_file = open(\"../trainlist.txt\",\"w\")\n",
    "for i in range(len(files)):\n",
    "    txt_file.write(files[i])\n",
    "    txt_file.write(\" 1 \\n\")"
   ]
  },
  {
   "cell_type": "code",
   "execution_count": null,
   "metadata": {},
   "outputs": [],
   "source": []
  },
  {
   "cell_type": "code",
   "execution_count": null,
   "metadata": {},
   "outputs": [],
   "source": []
  },
  {
   "cell_type": "code",
   "execution_count": null,
   "metadata": {},
   "outputs": [],
   "source": []
  }
 ],
 "metadata": {
  "kernelspec": {
   "display_name": "Python 3",
   "language": "python",
   "name": "python3"
  },
  "language_info": {
   "codemirror_mode": {
    "name": "ipython",
    "version": 3
   },
   "file_extension": ".py",
   "mimetype": "text/x-python",
   "name": "python",
   "nbconvert_exporter": "python",
   "pygments_lexer": "ipython3",
   "version": "3.5.2"
  }
 },
 "nbformat": 4,
 "nbformat_minor": 2
}
